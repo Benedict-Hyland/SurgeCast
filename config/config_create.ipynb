{
 "cells": [
  {
   "cell_type": "code",
   "execution_count": 1,
   "metadata": {},
   "outputs": [],
   "source": [
    "import configparser"
   ]
  },
  {
   "cell_type": "code",
   "execution_count": 3,
   "metadata": {},
   "outputs": [],
   "source": [
    "config = configparser.ConfigParser(allow_no_value=True)\n",
    "config.add_section('gfs')\n",
    "config.set('gfs', 'host', '5.101.168.50')\n",
    "config.set('gfs', 'database', 'weather_gfs')\n",
    "config.set('gfs', 'user', 'weather')\n",
    "config.set('gfs', 'password', '5u[P]*{qoX1r')\n",
    "\n",
    "config.add_section('net')\n",
    "config.set('net', 'host', '5.101.168.50')\n",
    "config.set('net', 'database', 'weather_net')\n",
    "config.set('net', 'user', 'weather')\n",
    "config.set('net', 'password', '5u[P]*{qoX1r')\n",
    "\n",
    "config.add_section('test')\n",
    "config.set('test', 'host', 'localhost')\n",
    "config.set('test', 'database', 'test_db')\n",
    "config.set('test', 'user', 'test_user')\n",
    "config.set('test', 'password', 'root_pw')"
   ]
  },
  {
   "cell_type": "code",
   "execution_count": 4,
   "metadata": {},
   "outputs": [],
   "source": [
    "with open('database_credentials.ini', 'w') as configfile:\n",
    "    config.write(configfile)"
   ]
  }
 ],
 "metadata": {
  "kernelspec": {
   "display_name": "Python 3",
   "language": "python",
   "name": "python3"
  },
  "language_info": {
   "codemirror_mode": {
    "name": "ipython",
    "version": 3
   },
   "file_extension": ".py",
   "mimetype": "text/x-python",
   "name": "python",
   "nbconvert_exporter": "python",
   "pygments_lexer": "ipython3",
   "version": "3.10.10"
  },
  "orig_nbformat": 4,
  "vscode": {
   "interpreter": {
    "hash": "31f2aee4e71d21fbe5cf8b01ff0e069b9275f58929596ceb00d14d90e3e16cd6"
   }
  }
 },
 "nbformat": 4,
 "nbformat_minor": 2
}
